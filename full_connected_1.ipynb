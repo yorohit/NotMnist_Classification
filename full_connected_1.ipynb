{
 "cells": [
  {
   "cell_type": "code",
   "execution_count": 1,
   "metadata": {
    "collapsed": true
   },
   "outputs": [],
   "source": [
    "from __future__ import print_function\n",
    "import numpy as np\n",
    "import tensorflow as tf\n",
    "from six.moves import cPickle as pickle\n",
    "from six.moves import range"
   ]
  },
  {
   "cell_type": "code",
   "execution_count": 2,
   "metadata": {
    "collapsed": false
   },
   "outputs": [
    {
     "name": "stdout",
     "output_type": "stream",
     "text": [
      "Training set (200000, 28, 28) (200000,)\n",
      "Validation set (10000, 28, 28) (10000,)\n",
      "Test set (10000, 28, 28) (10000,)\n"
     ]
    }
   ],
   "source": [
    "pickle_file = 'notMNIST.pickle'\n",
    "\n",
    "with open(pickle_file, 'rb') as f:\n",
    "  save = pickle.load(f)\n",
    "  train_dataset = save['train_dataset']\n",
    "  train_labels = save['train_labels']\n",
    "  valid_dataset = save['valid_dataset']\n",
    "  valid_labels = save['valid_labels']\n",
    "  test_dataset = save['test_dataset']\n",
    "  test_labels = save['test_labels']\n",
    "  del save  # hint to help gc free up memory\n",
    "  print('Training set', train_dataset.shape, train_labels.shape)\n",
    "  print('Validation set', valid_dataset.shape, valid_labels.shape)\n",
    "  print('Test set', test_dataset.shape, test_labels.shape)"
   ]
  },
  {
   "cell_type": "code",
   "execution_count": 3,
   "metadata": {
    "collapsed": false
   },
   "outputs": [
    {
     "name": "stdout",
     "output_type": "stream",
     "text": [
      "Training set (200000, 784) (200000, 10)\n",
      "Validation set (10000, 784) (10000, 10)\n",
      "Test set (10000, 784) (10000, 10)\n"
     ]
    }
   ],
   "source": [
    "image_size = 28\n",
    "num_labels = 10\n",
    "\n",
    "def reformat(dataset,labels):\n",
    "    dataset=dataset.reshape((-1,image_size*image_size)).astype(np.float32)\n",
    "    labels=(np.arange(num_labels) == labels[:,None]).astype(np.float32)\n",
    "    return dataset,labels\n",
    "train_dataset, train_labels = reformat(train_dataset, train_labels)\n",
    "valid_dataset, valid_labels = reformat(valid_dataset, valid_labels)\n",
    "test_dataset, test_labels = reformat(test_dataset, test_labels)\n",
    "print('Training set', train_dataset.shape, train_labels.shape)\n",
    "print('Validation set', valid_dataset.shape, valid_labels.shape)\n",
    "print('Test set', test_dataset.shape, test_labels.shape)"
   ]
  },
  {
   "cell_type": "code",
   "execution_count": 9,
   "metadata": {
    "collapsed": false
   },
   "outputs": [],
   "source": [
    "train_subset = 1000\n",
    "\n",
    "graph = tf.Graph()\n",
    "with graph.as_default():\n",
    "    \n",
    "    tf_train_dataset= tf.constant(train_dataset[:train_subset,:])\n",
    "    tf_train_labels = tf.constant(train_labels[:train_subset])\n",
    "    tf_valid_dataset = tf.constant(valid_dataset)\n",
    "    tf_test_dataset = tf.constant(test_dataset)\n",
    "    \n",
    "    weights=tf.Variable(tf.truncated_normal([image_size*image_size,num_labels]))\n",
    "    bias=tf.Variable(tf.zeros([num_labels]))\n",
    "    \n",
    "    logits= tf.matmul(tf_train_dataset,weights) + bias\n",
    "    loss= tf.reduce_mean(tf.nn.softmax_cross_entropy_with_logits(logits=logits,labels=tf_train_labels))\n",
    "    \n",
    "    optimizer=tf.train.GradientDescentOptimizer(0.5).minimize(loss)\n",
    "    \n",
    "    train_prediction = tf.nn.softmax(logits)\n",
    "    valid_prediction = tf.nn.softmax(\n",
    "    tf.matmul(tf_valid_dataset, weights) + bias)\n",
    "    test_prediction = tf.nn.softmax(tf.matmul(tf_test_dataset, weights) + bias)\n",
    "    init=tf.global_variables_initializer()"
   ]
  },
  {
   "cell_type": "code",
   "execution_count": 13,
   "metadata": {
    "collapsed": false
   },
   "outputs": [
    {
     "name": "stdout",
     "output_type": "stream",
     "text": [
      "Loss at step 0: 15.757600\n",
      "Training accuracy: 16.7%\n",
      "Validation accuracy: 14.6%\n",
      "Loss at step 100: 1.279256\n",
      "Training accuracy: 80.3%\n",
      "Validation accuracy: 67.4%\n",
      "Loss at step 200: 0.678344\n",
      "Training accuracy: 86.6%\n",
      "Validation accuracy: 69.2%\n",
      "Loss at step 300: 0.400123\n",
      "Training accuracy: 92.6%\n",
      "Validation accuracy: 70.3%\n",
      "Loss at step 400: 0.255150\n",
      "Training accuracy: 95.2%\n",
      "Validation accuracy: 70.4%\n",
      "Loss at step 500: 0.167990\n",
      "Training accuracy: 96.8%\n",
      "Validation accuracy: 70.5%\n",
      "Loss at step 600: 0.115398\n",
      "Training accuracy: 98.8%\n",
      "Validation accuracy: 70.5%\n",
      "Loss at step 700: 0.084779\n",
      "Training accuracy: 99.2%\n",
      "Validation accuracy: 70.6%\n",
      "Loss at step 800: 0.066998\n",
      "Training accuracy: 99.5%\n",
      "Validation accuracy: 70.8%\n",
      "Test accuracy: 77.5%\n"
     ]
    }
   ],
   "source": [
    "num_steps = 801\n",
    "def accuracy(predections,labels):\n",
    "    return (100.0 *np.sum(np.argmax(predections,1) == np.argmax(labels,1))/predections.shape[0])\n",
    "\n",
    "\n",
    "with tf.Session(graph=graph) as sess:\n",
    "    sess.run(init)\n",
    "    for num in  range(num_steps):\n",
    "        _,l,predictions=sess.run([optimizer,loss,train_prediction])\n",
    "        if (num % 100 == 0):\n",
    "            print('Loss at step %d: %f' % (num, l))\n",
    "            print('Training accuracy: %.1f%%' % accuracy(\n",
    "        predictions, train_labels[:train_subset, :]))\n",
    "            print('Validation accuracy: %.1f%%' % accuracy(\n",
    "        valid_prediction.eval(), valid_labels))\n",
    "    print('Test accuracy: %.1f%%' % accuracy(test_prediction.eval(), test_labels))\n",
    "    "
   ]
  },
  {
   "cell_type": "code",
   "execution_count": 16,
   "metadata": {
    "collapsed": false
   },
   "outputs": [],
   "source": [
    "batch_size = 128\n",
    "num_hidden_nodes = 1024\n",
    "\n",
    "graph=tf.Graph()\n",
    "with graph.as_default():\n",
    "    tf_train_dataset=tf.placeholder(tf.float32,shape=(batch_size,image_size*image_size))\n",
    "    tf_train_labels = tf.placeholder(tf.float32, shape=(batch_size, num_labels))\n",
    "    tf_valid_dataset = tf.constant(valid_dataset)\n",
    "    tf_test_dataset = tf.constant(test_dataset)\n",
    "    \n",
    "    weights1=tf.Variable(tf.truncated_normal([image_size * image_size, num_hidden_nodes]))\n",
    "    biases1=tf.Variable(tf.zeros([num_hidden_nodes]))\n",
    "    weights2 = tf.Variable(tf.truncated_normal([num_hidden_nodes, num_labels]))\n",
    "    biases2 = tf.Variable(tf.zeros([num_labels]))\n",
    "    \n",
    "    lay1_train=tf.nn.relu(tf.matmul(tf_train_dataset,weights1)+biases1)\n",
    "    logits=tf.matmul(lay1_train,weights2)+biases2\n",
    "    loss=tf.reduce_mean(tf.nn.softmax_cross_entropy_with_logits(logits=logits,labels=tf_train_labels))\n",
    "    \n",
    "    optimizer = tf.train.GradientDescentOptimizer(0.5).minimize(loss)\n",
    "    \n",
    "    train_prediction = tf.nn.softmax(logits)\n",
    "    lay1_valid = tf.nn.relu(tf.matmul(tf_valid_dataset, weights1) + biases1)\n",
    "    valid_prediction = tf.nn.softmax(tf.matmul(lay1_valid, weights2) + biases2)\n",
    "    lay1_test = tf.nn.relu(tf.matmul(tf_test_dataset, weights1) + biases1)\n",
    "    test_prediction = tf.nn.softmax(tf.matmul(lay1_test, weights2) + biases2)\n",
    "    init=tf.global_variables_initializer()"
   ]
  },
  {
   "cell_type": "code",
   "execution_count": 17,
   "metadata": {
    "collapsed": false
   },
   "outputs": [
    {
     "name": "stdout",
     "output_type": "stream",
     "text": [
      "Minibatch loss at step 0: 353.581635\n",
      "Minibatch accuracy: 10.2%\n",
      "Validation accuracy: 33.5%\n",
      "Minibatch loss at step 500: 7.357802\n",
      "Minibatch accuracy: 83.6%\n",
      "Validation accuracy: 79.2%\n",
      "Minibatch loss at step 1000: 11.795955\n",
      "Minibatch accuracy: 75.8%\n",
      "Validation accuracy: 79.7%\n",
      "Minibatch loss at step 1500: 5.261636\n",
      "Minibatch accuracy: 78.9%\n",
      "Validation accuracy: 80.7%\n",
      "Minibatch loss at step 2000: 5.624412\n",
      "Minibatch accuracy: 78.1%\n",
      "Validation accuracy: 82.3%\n",
      "Minibatch loss at step 2500: 5.215199\n",
      "Minibatch accuracy: 78.1%\n",
      "Validation accuracy: 81.9%\n",
      "Minibatch loss at step 3000: 6.067374\n",
      "Minibatch accuracy: 75.8%\n",
      "Validation accuracy: 81.7%\n",
      "Test accuracy: 87.9%\n"
     ]
    }
   ],
   "source": [
    "num_steps=3001\n",
    "with tf.Session(graph=graph) as sess:\n",
    "    sess.run(init)\n",
    "    for step in range(num_steps):\n",
    "        offset = (step * batch_size) % (train_labels.shape[0] - batch_size)\n",
    "        batch_data = train_dataset[offset:(offset + batch_size), :]\n",
    "        batch_labels = train_labels[offset:(offset + batch_size), :]\n",
    "        feed_dict={tf_train_dataset: batch_data ,tf_train_labels: batch_labels}\n",
    "        _,l,predictions = sess.run([optimizer,loss,train_prediction],feed_dict=feed_dict)\n",
    "        if (step % 500 == 0):\n",
    "            print(\"Minibatch loss at step %d: %f\" % (step, l))\n",
    "            print(\"Minibatch accuracy: %.1f%%\" % accuracy(predictions, batch_labels))\n",
    "            print(\"Validation accuracy: %.1f%%\" % accuracy(valid_prediction.eval(), valid_labels))\n",
    "    print(\"Test accuracy: %.1f%%\" % accuracy(test_prediction.eval(), test_labels))"
   ]
  },
  {
   "cell_type": "code",
   "execution_count": null,
   "metadata": {
    "collapsed": true
   },
   "outputs": [],
   "source": []
  }
 ],
 "metadata": {
  "kernelspec": {
   "display_name": "Python 2",
   "language": "python",
   "name": "python2"
  },
  "language_info": {
   "codemirror_mode": {
    "name": "ipython",
    "version": 2
   },
   "file_extension": ".py",
   "mimetype": "text/x-python",
   "name": "python",
   "nbconvert_exporter": "python",
   "pygments_lexer": "ipython2",
   "version": "2.7.13"
  }
 },
 "nbformat": 4,
 "nbformat_minor": 0
}
